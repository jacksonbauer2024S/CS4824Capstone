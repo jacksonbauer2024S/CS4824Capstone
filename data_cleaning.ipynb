{
 "cells": [
  {
   "cell_type": "markdown",
   "id": "78e5e685-52a5-4559-a81c-12cbbd6e4607",
   "metadata": {},
   "source": [
    "Preliminary analysis of EDDMaps dataset"
   ]
  },
  {
   "cell_type": "code",
   "execution_count": 1,
   "id": "ff8edc23-c16d-4580-995e-db681d052f15",
   "metadata": {},
   "outputs": [],
   "source": [
    "import pandas as pd\n",
    "import numpy as np\n",
    "import matplotlib.pyplot as plt"
   ]
  },
  {
   "cell_type": "code",
   "execution_count": 2,
   "id": "0b6f2b62-05b7-490f-9000-7f6d20b0d981",
   "metadata": {},
   "outputs": [
    {
     "name": "stderr",
     "output_type": "stream",
     "text": [
      "/tmp/ipykernel_21567/3170345960.py:1: DtypeWarning: Columns (15,23,25,26,27,30,31,32,33,35,38,39,40,42,48,60,61,62,69,71,74,77) have mixed types. Specify dtype option on import or set low_memory=False.\n",
      "  df = pd.read_csv(\"CS4824CapstoneData/EDDMapS_dirty.csv\", encoding='latin-1')\n"
     ]
    }
   ],
   "source": [
    "df = pd.read_csv(\"CS4824CapstoneData/EDDMapS_dirty.csv\", encoding='latin-1')"
   ]
  },
  {
   "cell_type": "code",
   "execution_count": 3,
   "id": "6cf7217e-bc2e-4a1b-88d5-d53f9ebe568c",
   "metadata": {},
   "outputs": [],
   "source": [
    "# Drop columns that are missing\n",
    "df = df.dropna(axis=1, how=\"all\")\n",
    "\n",
    "# Convert date columns to pandas datetime \n",
    "df[\"ObsDate\"] = pd.to_datetime(df[\"ObsDate\"], errors=\"coerce\")\n",
    "df[\"DateEnt\"] = pd.to_datetime(df[\"DateEnt\"], errors=\"coerce\")\n",
    "df[\"DateUp\"] = pd.to_datetime(df[\"DateUp\"], errors=\"coerce\")"
   ]
  },
  {
   "cell_type": "code",
   "execution_count": 4,
   "id": "678604e6-d99b-4d73-b65f-be99984adbdf",
   "metadata": {},
   "outputs": [
    {
     "data": {
      "text/plain": [
       "Site          26131\n",
       "Host          26131\n",
       "LifeStatus    26130\n",
       "LocalOwner    26129\n",
       "DateAcc       26126\n",
       "Incidence     26118\n",
       "Severity      26115\n",
       "NumCollect    26103\n",
       "GrossAcre     26102\n",
       "Museum        26090\n",
       "dtype: int64"
      ]
     },
     "execution_count": 4,
     "metadata": {},
     "output_type": "execute_result"
    }
   ],
   "source": [
    "missing = df.isnull().sum().sort_values(ascending=False)\n",
    "missing.head(10)"
   ]
  },
  {
   "cell_type": "code",
   "execution_count": 5,
   "id": "aa381f1a-1835-46a4-8472-ba1b62cd292a",
   "metadata": {},
   "outputs": [
    {
     "data": {
      "image/png": "[encoded data removed]",
      "text/plain": [
       "<Figure size 640x480 with 1 Axes>"
      ]
     },
     "metadata": {},
     "output_type": "display_data"
    }
   ],
   "source": [
    "# Reports per year plot\n",
    "\n",
    "df[\"year\"] = df[\"ObsDate\"].dt.year\n",
    "\n",
    "df[\"year\"].value_counts().sort_index().plot(\n",
    "    kind=\"bar\", title=\"Reports per Year\", color=\"steelblue\"\n",
    ")\n",
    "plt.xlabel(\"Year\")\n",
    "plt.ylabel(\"Number of Reports\")\n",
    "plt.show()\n"
   ]
  },
  {
   "cell_type": "code",
   "execution_count": 6,
   "id": "a1e5600e-daf0-4f93-b1e5-d03f0f56096d",
   "metadata": {},
   "outputs": [
    {
     "data": {
      "text/plain": [
       "Status_encoded\n",
       "1.0    26078\n",
       "0.0       19\n",
       "Name: count, dtype: int64"
      ]
     },
     "execution_count": 6,
     "metadata": {},
     "output_type": "execute_result"
    }
   ],
   "source": [
    "# Encode infestation status\n",
    "\n",
    "status_map = {\n",
    "    'Positive': 1,\n",
    "    'Negative': 0,\n",
    "}\n",
    "df['Status_encoded'] = df['Status'].map(status_map)\n",
    "df['Status_encoded'].value_counts()\n"
   ]
  },
  {
   "cell_type": "code",
   "execution_count": 7,
   "id": "daec401f-e1d0-4190-bace-d1314cfd77f3",
   "metadata": {},
   "outputs": [],
   "source": [
    "# Clean and split location \n",
    "df['Location_clean'] = df['Location'].str.replace('\"', '')\n",
    "\n",
    "df[['County', 'State', 'Country']] = (\n",
    "    df['Location_clean']\n",
    "    .str.split(',', expand=True)\n",
    ")\n",
    "\n",
    "# Strip whitespace\n",
    "df['County'] = df['County'].str.strip()\n",
    "df['State'] = df['State'].str.strip()\n",
    "df['Country'] = df['Country'].str.strip()\n",
    "\n",
    "df = df.drop(columns=['Location_clean'])"
   ]
  },
  {
   "cell_type": "code",
   "execution_count": 8,
   "id": "e7b06398-c3c4-4322-9ba3-c302679fa5ec",
   "metadata": {},
   "outputs": [
    {
     "data": {
      "text/html": [
       "<div>\n",
       "<style scoped>\n",
       "    .dataframe tbody tr th:only-of-type {\n",
       "        vertical-align: middle;\n",
       "    }\n",
       "\n",
       "    .dataframe tbody tr th {\n",
       "        vertical-align: top;\n",
       "    }\n",
       "\n",
       "    .dataframe thead th {\n",
       "        text-align: right;\n",
       "    }\n",
       "</style>\n",
       "<table border=\"1\" class=\"dataframe\">\n",
       "  <thead>\n",
       "    <tr style=\"text-align: right;\">\n",
       "      <th></th>\n",
       "      <th>Latitude</th>\n",
       "      <th>Longitude</th>\n",
       "    </tr>\n",
       "  </thead>\n",
       "  <tbody>\n",
       "    <tr>\n",
       "      <th>count</th>\n",
       "      <td>25607.000000</td>\n",
       "      <td>25607.000000</td>\n",
       "    </tr>\n",
       "    <tr>\n",
       "      <th>mean</th>\n",
       "      <td>40.332864</td>\n",
       "      <td>-75.739745</td>\n",
       "    </tr>\n",
       "    <tr>\n",
       "      <th>std</th>\n",
       "      <td>0.702964</td>\n",
       "      <td>2.240914</td>\n",
       "    </tr>\n",
       "    <tr>\n",
       "      <th>min</th>\n",
       "      <td>30.711960</td>\n",
       "      <td>-122.665970</td>\n",
       "    </tr>\n",
       "    <tr>\n",
       "      <th>25%</th>\n",
       "      <td>39.981875</td>\n",
       "      <td>-76.554135</td>\n",
       "    </tr>\n",
       "    <tr>\n",
       "      <th>50%</th>\n",
       "      <td>40.484100</td>\n",
       "      <td>-75.126710</td>\n",
       "    </tr>\n",
       "    <tr>\n",
       "      <th>75%</th>\n",
       "      <td>40.778960</td>\n",
       "      <td>-74.012580</td>\n",
       "    </tr>\n",
       "    <tr>\n",
       "      <th>max</th>\n",
       "      <td>47.705630</td>\n",
       "      <td>-71.183300</td>\n",
       "    </tr>\n",
       "  </tbody>\n",
       "</table>\n",
       "</div>"
      ],
      "text/plain": [
       "           Latitude     Longitude\n",
       "count  25607.000000  25607.000000\n",
       "mean      40.332864    -75.739745\n",
       "std        0.702964      2.240914\n",
       "min       30.711960   -122.665970\n",
       "25%       39.981875    -76.554135\n",
       "50%       40.484100    -75.126710\n",
       "75%       40.778960    -74.012580\n",
       "max       47.705630    -71.183300"
      ]
     },
     "execution_count": 8,
     "metadata": {},
     "output_type": "execute_result"
    }
   ],
   "source": [
    "df[[\"Latitude\", \"Longitude\"]].dropna().describe()\n"
   ]
  },
  {
   "cell_type": "code",
   "execution_count": 9,
   "id": "ddebea4c-4ebb-4f8e-b0e6-8f95779e712f",
   "metadata": {},
   "outputs": [],
   "source": [
    "# Define relevent columns\n",
    "useful_cols = [\n",
    "    \"objectid\", \"ObsDate\", \"year\",\n",
    "    \"Latitude\", \"Longitude\",\n",
    "    \"County\", \"State\", \"Status_encoded\"\n",
    "]\n",
    "\n",
    "df_useful = df[useful_cols].copy()\n",
    "\n",
    "# Save cleaned data\n",
    "df_useful.to_csv(\"CS4824CapstoneData/EDDMapS/EDDMapS_clean.csv\", index=False)\n"
   ]
  }
 ],
 "metadata": {
  "kernelspec": {
   "display_name": "Python [conda env:base] *",
   "language": "python",
   "name": "conda-base-py"
  },
  "language_info": {
   "codemirror_mode": {
    "name": "ipython",
    "version": 3
   },
   "file_extension": ".py",
   "mimetype": "text/x-python",
   "name": "python",
   "nbconvert_exporter": "python",
   "pygments_lexer": "ipython3",
   "version": "3.13.5"
  }
 },
 "nbformat": 4,
 "nbformat_minor": 5
}
